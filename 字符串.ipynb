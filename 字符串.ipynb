{
  "nbformat": 4,
  "nbformat_minor": 0,
  "metadata": {
    "colab": {
      "name": "字符串",
      "provenance": [],
      "collapsed_sections": [],
      "authorship_tag": "ABX9TyOgtcaUe7RLMmiuYY3Bai7U",
      "include_colab_link": true
    },
    "kernelspec": {
      "name": "python3",
      "display_name": "Python 3"
    }
  },
  "cells": [
    {
      "cell_type": "markdown",
      "metadata": {
        "id": "view-in-github",
        "colab_type": "text"
      },
      "source": [
        "<a href=\"https://colab.research.google.com/github/panlei726534/first_learning_python/blob/master/%E5%AD%97%E7%AC%A6%E4%B8%B2.ipynb\" target=\"_parent\"><img src=\"https://colab.research.google.com/assets/colab-badge.svg\" alt=\"Open In Colab\"/></a>"
      ]
    },
    {
      "cell_type": "code",
      "metadata": {
        "id": "mcc758RivGCF",
        "colab_type": "code",
        "colab": {
          "base_uri": "https://localhost:8080/",
          "height": 102
        },
        "outputId": "e74f13bd-2a7b-4cbd-c493-c7f6d7c7e865"
      },
      "source": [
        "name='jason'\n",
        "for panlei in name:\n",
        "  print(panlei)"
      ],
      "execution_count": 6,
      "outputs": [
        {
          "output_type": "stream",
          "text": [
            "j\n",
            "a\n",
            "s\n",
            "o\n",
            "n\n"
          ],
          "name": "stdout"
        }
      ]
    },
    {
      "cell_type": "code",
      "metadata": {
        "id": "vLStAyjs0HHi",
        "colab_type": "code",
        "colab": {
          "base_uri": "https://localhost:8080/",
          "height": 34
        },
        "outputId": "d7d9fcb4-efe0-4f73-922d-91d0b7e2a538"
      },
      "source": [
        "path='http://ads/training_table'\n",
        "namespace=path.split('//')\n",
        "namespace"
      ],
      "execution_count": 8,
      "outputs": [
        {
          "output_type": "execute_result",
          "data": {
            "text/plain": [
              "['http:', 'ads/training_table']"
            ]
          },
          "metadata": {
            "tags": []
          },
          "execution_count": 8
        }
      ]
    },
    {
      "cell_type": "markdown",
      "metadata": {
        "id": "MudVTKLe0cK-",
        "colab_type": "text"
      },
      "source": [
        "sting.split()字符串的分割函数，可以提取某个字符串内的内容。\n"
      ]
    },
    {
      "cell_type": "code",
      "metadata": {
        "id": "cxfDLeho0uTk",
        "colab_type": "code",
        "colab": {
          "base_uri": "https://localhost:8080/",
          "height": 35
        },
        "outputId": "dc7c357e-b8b0-4614-a7fb-675a2126b967"
      },
      "source": [
        "namespace[1].split('/')[0]"
      ],
      "execution_count": 9,
      "outputs": [
        {
          "output_type": "execute_result",
          "data": {
            "application/vnd.google.colaboratory.intrinsic": {
              "type": "string"
            },
            "text/plain": [
              "'ads'"
            ]
          },
          "metadata": {
            "tags": []
          },
          "execution_count": 9
        }
      ]
    },
    {
      "cell_type": "markdown",
      "metadata": {
        "id": "5Runsc2o365q",
        "colab_type": "text"
      },
      "source": [
        "输入函数、输出函数input()、output()、格式函数的使用{}.format()"
      ]
    },
    {
      "cell_type": "code",
      "metadata": {
        "id": "DDjm9XQ73-mq",
        "colab_type": "code",
        "colab": {
          "base_uri": "https://localhost:8080/",
          "height": 34
        },
        "outputId": "618339bf-8674-44f4-8fa1-4091d7a87e66"
      },
      "source": [
        "a=2\n",
        "b=3\n",
        "print('a+b={}'.format(a+b))"
      ],
      "execution_count": 12,
      "outputs": [
        {
          "output_type": "stream",
          "text": [
            "a+b=5\n"
          ],
          "name": "stdout"
        }
      ]
    },
    {
      "cell_type": "code",
      "metadata": {
        "id": "0KeSgacc4saR",
        "colab_type": "code",
        "colab": {
          "base_uri": "https://localhost:8080/",
          "height": 34
        },
        "outputId": "4556d926-7e2f-4ca0-b8a7-b6cd4d9c3a5f"
      },
      "source": [
        "q=a\n",
        "w=3\n",
        "e=5.3\n",
        "print('type of q is {},type of w is {},type of is {}'.format(type(q),type(w),type(e)))"
      ],
      "execution_count": 13,
      "outputs": [
        {
          "output_type": "stream",
          "text": [
            "type of q is <class 'int'>,type of w is <class 'int'>,type of is <class 'float'>\n"
          ],
          "name": "stdout"
        }
      ]
    },
    {
      "cell_type": "code",
      "metadata": {
        "id": "JlJuqUbL69CU",
        "colab_type": "code",
        "colab": {}
      },
      "source": [
        "import re\n",
        "with open('in.txt','r') as fin:\n",
        "  text = fin."
      ],
      "execution_count": null,
      "outputs": []
    }
  ]
}