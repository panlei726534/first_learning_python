{
  "nbformat": 4,
  "nbformat_minor": 0,
  "metadata": {
    "colab": {
      "name": "Untitled0.ipynb",
      "provenance": [],
      "authorship_tag": "ABX9TyNupUY0VZbgHj9bGQW6qtQN",
      "include_colab_link": true
    },
    "kernelspec": {
      "name": "python3",
      "display_name": "Python 3"
    }
  },
  "cells": [
    {
      "cell_type": "markdown",
      "metadata": {
        "id": "view-in-github",
        "colab_type": "text"
      },
      "source": [
        "<a href=\"https://colab.research.google.com/github/panlei726534/first_learning_python/blob/master/%E5%88%97%E8%A1%A8%E3%80%81%E5%85%83%E7%BB%84.ipynb\" target=\"_parent\"><img src=\"https://colab.research.google.com/assets/colab-badge.svg\" alt=\"Open In Colab\"/></a>"
      ]
    },
    {
      "cell_type": "markdown",
      "metadata": {
        "id": "GE_RUqjiBJWJ",
        "colab_type": "text"
      },
      "source": [
        "python中两种常见的数据结构：列表list、元组tuple\n",
        "这两种数据结构的共同之处是：它们可以存放**任意数据类型的有序集合**。"
      ]
    },
    {
      "cell_type": "markdown",
      "metadata": {
        "id": "pKXuQ-R7ByGv",
        "colab_type": "text"
      },
      "source": [
        "其不同之处是：列表是：存放动态的数据（存放的长度不固定，可以随意的修改）。元组存放的是静态的数据（存放的长度固定，无法增加或者修改数据）。"
      ]
    },
    {
      "cell_type": "code",
      "metadata": {
        "id": "D2gx9esLBmxK",
        "colab_type": "code",
        "colab": {
          "base_uri": "https://localhost:8080/",
          "height": 34
        },
        "outputId": "3a5478a3-f233-4a3f-9d58-cf430dc3e156"
      },
      "source": [
        "l=[1,2,3,4]\n",
        "l[3]=40\n",
        "l"
      ],
      "execution_count": 8,
      "outputs": [
        {
          "output_type": "execute_result",
          "data": {
            "text/plain": [
              "[1, 2, 3, 40]"
            ]
          },
          "metadata": {
            "tags": []
          },
          "execution_count": 8
        }
      ]
    },
    {
      "cell_type": "code",
      "metadata": {
        "id": "aVileZy0C5hx",
        "colab_type": "code",
        "colab": {
          "base_uri": "https://localhost:8080/",
          "height": 182
        },
        "outputId": "edfd51f7-f5b9-479f-84c9-6b35ae5bfa4c"
      },
      "source": [
        "tup=(1,2,3,4)\n",
        "tup[3]=40"
      ],
      "execution_count": 9,
      "outputs": [
        {
          "output_type": "error",
          "ename": "TypeError",
          "evalue": "ignored",
          "traceback": [
            "\u001b[0;31m---------------------------------------------------------------------------\u001b[0m",
            "\u001b[0;31mTypeError\u001b[0m                                 Traceback (most recent call last)",
            "\u001b[0;32m<ipython-input-9-0dc44e7d1968>\u001b[0m in \u001b[0;36m<module>\u001b[0;34m()\u001b[0m\n\u001b[1;32m      1\u001b[0m \u001b[0mtup\u001b[0m\u001b[0;34m=\u001b[0m\u001b[0;34m(\u001b[0m\u001b[0;36m1\u001b[0m\u001b[0;34m,\u001b[0m\u001b[0;36m2\u001b[0m\u001b[0;34m,\u001b[0m\u001b[0;36m3\u001b[0m\u001b[0;34m,\u001b[0m\u001b[0;36m4\u001b[0m\u001b[0;34m)\u001b[0m\u001b[0;34m\u001b[0m\u001b[0;34m\u001b[0m\u001b[0m\n\u001b[0;32m----> 2\u001b[0;31m \u001b[0mtup\u001b[0m\u001b[0;34m[\u001b[0m\u001b[0;36m3\u001b[0m\u001b[0;34m]\u001b[0m\u001b[0;34m=\u001b[0m\u001b[0;36m40\u001b[0m\u001b[0;34m\u001b[0m\u001b[0;34m\u001b[0m\u001b[0m\n\u001b[0m",
            "\u001b[0;31mTypeError\u001b[0m: 'tuple' object does not support item assignment"
          ]
        }
      ]
    },
    {
      "cell_type": "code",
      "metadata": {
        "id": "hxHLHfzOERkt",
        "colab_type": "code",
        "colab": {
          "base_uri": "https://localhost:8080/",
          "height": 34
        },
        "outputId": "d4cbda4e-ca92-4787-83ea-0a51ace818f6"
      },
      "source": [
        "tup=(1,2,3,4)\n",
        "new_tup=tup+(5,)\n",
        "new_tup"
      ],
      "execution_count": 12,
      "outputs": [
        {
          "output_type": "execute_result",
          "data": {
            "text/plain": [
              "(1, 2, 3, 4, 5)"
            ]
          },
          "metadata": {
            "tags": []
          },
          "execution_count": 12
        }
      ]
    },
    {
      "cell_type": "markdown",
      "metadata": {
        "id": "ZGmobSMeFNnx",
        "colab_type": "text"
      },
      "source": [
        "元组的添加：只能是元组与元组的相加，并重新开辟一个内存，赋值新的元组名。"
      ]
    },
    {
      "cell_type": "code",
      "metadata": {
        "id": "2OBKoPgtFcy7",
        "colab_type": "code",
        "colab": {}
      },
      "source": [
        ""
      ],
      "execution_count": null,
      "outputs": []
    }
  ]
}